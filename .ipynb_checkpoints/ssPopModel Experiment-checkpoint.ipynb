{
 "cells": [
  {
   "cell_type": "markdown",
   "metadata": {},
   "source": [
    "# Testing Sensitiviy of ssPopModel\n",
    "\n"
   ]
  },
  {
   "cell_type": "markdown",
   "metadata": {},
   "source": [
    "The R package `ssPopModel` uses DEoptim to estimate the growth rate of certain phytoplankton cells. Two of the input parameters of this model are the `width` of a size class (size classes are a way of binning the size of cells), and a change in time `dt`. The ideal `width` and `dt` would be such that every change in `dt`, each and every cell either stays in its current size class, or jumps *one* size class. This experiment explores the possible `width` and `dt` parameters.\n",
    "\n",
    "We'll first load the libraries and set up our paths."
   ]
  },
  {
   "cell_type": "code",
   "execution_count": 11,
   "metadata": {
    "collapsed": false
   },
   "outputs": [],
   "source": [
    "library(ssPopModel)\n",
    "library(gplots)\n",
    "\n",
    "# Path to the model outputs \n",
    "path.to.data <- \"~/ssPopModel_sensitivity_test/ssPopModel_sensitivity_test_data\"\n",
    "path.to.git.repository <- \"~/ssPopModel_sensitivity_test\"\n",
    "setwd(path.to.git.repository)"
   ]
  },
  {
   "cell_type": "markdown",
   "metadata": {
    "collapsed": true
   },
   "source": [
    "We chose to run the model with `width` parameters ranging from 0.0 to 0.15, and for each of those runs, with `dt` parameters ranging from 0.0 to 30.0. There was 69 unique `width's` and 59 unique `dt's` for a total of 4071 runs.\n",
    "\n",
    "After running the models, the next step is to merge all of the outputs into one data frame for analysis.\n",
    "\n",
    "To do this, we loop through each output file and append each parameter of interest onto a data frame.\n",
    "\n",
    "In this case, we are interested in looking at the following parameters:\n",
    "\n",
    "* `gmax`: maximum growth fraction\n",
    "* `dmax`: maximum division fraction\n",
    "* `b`: division function shape parameter\n",
    "* `E_Star`: growth function shape parameter\n",
    "* `resnorm`: the difference between observed results and model results\n",
    "\n",
    "\n",
    "As well as `gr`, the growth rate.\n",
    "\n",
    "We are also want to look at the `N(t)`, the total number of observed cells at each time step."
   ]
  },
  {
   "cell_type": "code",
   "execution_count": 12,
   "metadata": {
    "collapsed": false
   },
   "outputs": [
    {
     "name": "stdout",
     "output_type": "stream",
     "text": [
      "[1] \"output/size_modeloutput_0.03\"\n",
      "[1] \"output/size_modeloutput_0.035\"\n",
      "[1] \"output/size_modeloutput_0.04\"\n",
      "[1] \"output/size_modeloutput_0.045\"\n",
      "[1] \"output/size_modeloutput_0.046\"\n",
      "[1] \"output/size_modeloutput_0.047\"\n",
      "[1] \"output/size_modeloutput_0.048\"\n",
      "[1] \"output/size_modeloutput_0.049\"\n",
      "[1] \"output/size_modeloutput_0.05\"\n",
      "[1] \"output/size_modeloutput_0.051\"\n",
      "[1] \"output/size_modeloutput_0.052\"\n",
      "[1] \"output/size_modeloutput_0.053\"\n",
      "[1] \"output/size_modeloutput_0.054\"\n",
      "[1] \"output/size_modeloutput_0.055\"\n",
      "[1] \"output/size_modeloutput_0.056\"\n",
      "[1] \"output/size_modeloutput_0.057\"\n",
      "[1] \"output/size_modeloutput_0.058\"\n",
      "[1] \"output/size_modeloutput_0.059\"\n",
      "[1] \"output/size_modeloutput_0.06\"\n",
      "[1] \"output/size_modeloutput_0.061\"\n",
      "[1] \"output/size_modeloutput_0.062\"\n",
      "[1] \"output/size_modeloutput_0.063\"\n",
      "[1] \"output/size_modeloutput_0.064\"\n",
      "[1] \"output/size_modeloutput_0.065\"\n",
      "[1] \"output/size_modeloutput_0.066\"\n",
      "[1] \"output/size_modeloutput_0.067\"\n",
      "[1] \"output/size_modeloutput_0.068\"\n",
      "[1] \"output/size_modeloutput_0.069\"\n",
      "[1] \"output/size_modeloutput_0.07\"\n",
      "[1] \"output/size_modeloutput_0.071\"\n",
      "[1] \"output/size_modeloutput_0.072\"\n",
      "[1] \"output/size_modeloutput_0.073\"\n",
      "[1] \"output/size_modeloutput_0.074\"\n",
      "[1] \"output/size_modeloutput_0.075\"\n",
      "[1] \"output/size_modeloutput_0.076\"\n",
      "[1] \"output/size_modeloutput_0.077\"\n",
      "[1] \"output/size_modeloutput_0.078\"\n",
      "[1] \"output/size_modeloutput_0.079\"\n",
      "[1] \"output/size_modeloutput_0.08\"\n",
      "[1] \"output/size_modeloutput_0.081\"\n",
      "[1] \"output/size_modeloutput_0.082\"\n",
      "[1] \"output/size_modeloutput_0.083\"\n",
      "[1] \"output/size_modeloutput_0.084\"\n",
      "[1] \"output/size_modeloutput_0.085\"\n",
      "[1] \"output/size_modeloutput_0.086\"\n",
      "[1] \"output/size_modeloutput_0.087\"\n",
      "[1] \"output/size_modeloutput_0.088\"\n",
      "[1] \"output/size_modeloutput_0.089\"\n",
      "[1] \"output/size_modeloutput_0.09\"\n",
      "[1] \"output/size_modeloutput_0.091\"\n",
      "[1] \"output/size_modeloutput_0.092\"\n",
      "[1] \"output/size_modeloutput_0.093\"\n",
      "[1] \"output/size_modeloutput_0.094\"\n",
      "[1] \"output/size_modeloutput_0.095\"\n",
      "[1] \"output/size_modeloutput_0.096\"\n",
      "[1] \"output/size_modeloutput_0.097\"\n",
      "[1] \"output/size_modeloutput_0.098\"\n",
      "[1] \"output/size_modeloutput_0.099\"\n",
      "[1] \"output/size_modeloutput_0.1\"\n",
      "[1] \"output/size_modeloutput_0.10_dt=10\"\n"
     ]
    },
    {
     "name": "stderr",
     "output_type": "stream",
     "text": [
      "Warning message:\n",
      "“NAs introduced by coercion”"
     ]
    },
    {
     "name": "stdout",
     "output_type": "stream",
     "text": [
      "[1] \"output/size_modeloutput_0.10_dt=11\"\n"
     ]
    },
    {
     "name": "stderr",
     "output_type": "stream",
     "text": [
      "Warning message:\n",
      "“NAs introduced by coercion”"
     ]
    },
    {
     "name": "stdout",
     "output_type": "stream",
     "text": [
      "[1] \"output/size_modeloutput_0.10_dt=12\"\n"
     ]
    },
    {
     "name": "stderr",
     "output_type": "stream",
     "text": [
      "Warning message:\n",
      "“NAs introduced by coercion”"
     ]
    },
    {
     "name": "stdout",
     "output_type": "stream",
     "text": [
      "[1] \"output/size_modeloutput_0.10_dt=13\"\n"
     ]
    },
    {
     "name": "stderr",
     "output_type": "stream",
     "text": [
      "Warning message:\n",
      "“NAs introduced by coercion”"
     ]
    },
    {
     "name": "stdout",
     "output_type": "stream",
     "text": [
      "[1] \"output/size_modeloutput_0.10_dt=14\"\n"
     ]
    },
    {
     "name": "stderr",
     "output_type": "stream",
     "text": [
      "Warning message:\n",
      "“NAs introduced by coercion”"
     ]
    },
    {
     "name": "stdout",
     "output_type": "stream",
     "text": [
      "[1] \"output/size_modeloutput_0.10_dt=15\"\n"
     ]
    },
    {
     "name": "stderr",
     "output_type": "stream",
     "text": [
      "Warning message:\n",
      "“NAs introduced by coercion”"
     ]
    },
    {
     "name": "stdout",
     "output_type": "stream",
     "text": [
      "[1] \"output/size_modeloutput_0.10_dt=16\"\n"
     ]
    },
    {
     "name": "stderr",
     "output_type": "stream",
     "text": [
      "Warning message:\n",
      "“NAs introduced by coercion”"
     ]
    },
    {
     "name": "stdout",
     "output_type": "stream",
     "text": [
      "[1] \"output/size_modeloutput_0.10_dt=17\"\n"
     ]
    },
    {
     "name": "stderr",
     "output_type": "stream",
     "text": [
      "Warning message:\n",
      "“NAs introduced by coercion”"
     ]
    },
    {
     "name": "stdout",
     "output_type": "stream",
     "text": [
      "[1] \"output/size_modeloutput_0.10_dt=18\"\n"
     ]
    },
    {
     "name": "stderr",
     "output_type": "stream",
     "text": [
      "Warning message:\n",
      "“NAs introduced by coercion”"
     ]
    },
    {
     "name": "stdout",
     "output_type": "stream",
     "text": [
      "[1] \"output/size_modeloutput_0.10_dt=19\"\n"
     ]
    },
    {
     "name": "stderr",
     "output_type": "stream",
     "text": [
      "Warning message:\n",
      "“NAs introduced by coercion”"
     ]
    },
    {
     "name": "stdout",
     "output_type": "stream",
     "text": [
      "[1] \"output/size_modeloutput_0.10_dt=20\"\n"
     ]
    },
    {
     "name": "stderr",
     "output_type": "stream",
     "text": [
      "Warning message:\n",
      "“NAs introduced by coercion”"
     ]
    },
    {
     "name": "stdout",
     "output_type": "stream",
     "text": [
      "[1] \"output/size_modeloutput_0.10_dt=21\"\n"
     ]
    },
    {
     "name": "stderr",
     "output_type": "stream",
     "text": [
      "Warning message:\n",
      "“NAs introduced by coercion”"
     ]
    },
    {
     "name": "stdout",
     "output_type": "stream",
     "text": [
      "[1] \"output/size_modeloutput_0.10_dt=22\"\n"
     ]
    },
    {
     "name": "stderr",
     "output_type": "stream",
     "text": [
      "Warning message:\n",
      "“NAs introduced by coercion”"
     ]
    },
    {
     "name": "stdout",
     "output_type": "stream",
     "text": [
      "[1] \"output/size_modeloutput_0.10_dt=23\"\n"
     ]
    },
    {
     "name": "stderr",
     "output_type": "stream",
     "text": [
      "Warning message:\n",
      "“NAs introduced by coercion”"
     ]
    },
    {
     "name": "stdout",
     "output_type": "stream",
     "text": [
      "[1] \"output/size_modeloutput_0.10_dt=24\"\n"
     ]
    },
    {
     "name": "stderr",
     "output_type": "stream",
     "text": [
      "Warning message:\n",
      "“NAs introduced by coercion”"
     ]
    },
    {
     "name": "stdout",
     "output_type": "stream",
     "text": [
      "[1] \"output/size_modeloutput_0.10_dt=25\"\n"
     ]
    },
    {
     "name": "stderr",
     "output_type": "stream",
     "text": [
      "Warning message:\n",
      "“NAs introduced by coercion”"
     ]
    },
    {
     "name": "stdout",
     "output_type": "stream",
     "text": [
      "[1] \"output/size_modeloutput_0.10_dt=26\"\n"
     ]
    },
    {
     "name": "stderr",
     "output_type": "stream",
     "text": [
      "Warning message:\n",
      "“NAs introduced by coercion”"
     ]
    },
    {
     "name": "stdout",
     "output_type": "stream",
     "text": [
      "[1] \"output/size_modeloutput_0.10_dt=27\"\n"
     ]
    },
    {
     "name": "stderr",
     "output_type": "stream",
     "text": [
      "Warning message:\n",
      "“NAs introduced by coercion”"
     ]
    },
    {
     "name": "stdout",
     "output_type": "stream",
     "text": [
      "[1] \"output/size_modeloutput_0.10_dt=28\"\n"
     ]
    },
    {
     "name": "stderr",
     "output_type": "stream",
     "text": [
      "Warning message:\n",
      "“NAs introduced by coercion”"
     ]
    },
    {
     "name": "stdout",
     "output_type": "stream",
     "text": [
      "[1] \"output/size_modeloutput_0.10_dt=29\"\n"
     ]
    },
    {
     "name": "stderr",
     "output_type": "stream",
     "text": [
      "Warning message:\n",
      "“NAs introduced by coercion”"
     ]
    },
    {
     "name": "stdout",
     "output_type": "stream",
     "text": [
      "[1] \"output/size_modeloutput_0.10_dt=3\"\n"
     ]
    },
    {
     "name": "stderr",
     "output_type": "stream",
     "text": [
      "Warning message:\n",
      "“NAs introduced by coercion”"
     ]
    },
    {
     "name": "stdout",
     "output_type": "stream",
     "text": [
      "[1] \"output/size_modeloutput_0.10_dt=30\"\n"
     ]
    },
    {
     "name": "stderr",
     "output_type": "stream",
     "text": [
      "Warning message:\n",
      "“NAs introduced by coercion”"
     ]
    },
    {
     "name": "stdout",
     "output_type": "stream",
     "text": [
      "[1] \"output/size_modeloutput_0.10_dt=4\"\n"
     ]
    },
    {
     "name": "stderr",
     "output_type": "stream",
     "text": [
      "Warning message:\n",
      "“NAs introduced by coercion”"
     ]
    },
    {
     "name": "stdout",
     "output_type": "stream",
     "text": [
      "[1] \"output/size_modeloutput_0.10_dt=5\"\n"
     ]
    },
    {
     "name": "stderr",
     "output_type": "stream",
     "text": [
      "Warning message:\n",
      "“NAs introduced by coercion”"
     ]
    },
    {
     "name": "stdout",
     "output_type": "stream",
     "text": [
      "[1] \"output/size_modeloutput_0.10_dt=6\"\n"
     ]
    },
    {
     "name": "stderr",
     "output_type": "stream",
     "text": [
      "Warning message:\n",
      "“NAs introduced by coercion”"
     ]
    },
    {
     "name": "stdout",
     "output_type": "stream",
     "text": [
      "[1] \"output/size_modeloutput_0.10_dt=7\"\n"
     ]
    },
    {
     "name": "stderr",
     "output_type": "stream",
     "text": [
      "Warning message:\n",
      "“NAs introduced by coercion”"
     ]
    },
    {
     "name": "stdout",
     "output_type": "stream",
     "text": [
      "[1] \"output/size_modeloutput_0.10_dt=8\"\n"
     ]
    },
    {
     "name": "stderr",
     "output_type": "stream",
     "text": [
      "Warning message:\n",
      "“NAs introduced by coercion”"
     ]
    },
    {
     "name": "stdout",
     "output_type": "stream",
     "text": [
      "[1] \"output/size_modeloutput_0.10_dt=9\"\n"
     ]
    },
    {
     "name": "stderr",
     "output_type": "stream",
     "text": [
      "Warning message:\n",
      "“NAs introduced by coercion”"
     ]
    },
    {
     "name": "stdout",
     "output_type": "stream",
     "text": [
      "[1] \"output/size_modeloutput_0.105\"\n",
      "[1] \"output/size_modeloutput_0.11\"\n",
      "[1] \"output/size_modeloutput_0.115\"\n",
      "[1] \"output/size_modeloutput_0.12\"\n",
      "[1] \"output/size_modeloutput_0.125\"\n",
      "[1] \"output/size_modeloutput_0.13\"\n",
      "[1] \"output/size_modeloutput_0.135\"\n",
      "[1] \"output/size_modeloutput_0.14\"\n",
      "[1] \"output/size_modeloutput_0.145\"\n",
      "[1] \"output/size_modeloutput_0.15\"\n"
     ]
    },
    {
     "name": "stderr",
     "output_type": "stream",
     "text": [
      "Warning message in order(as.numeric(colnames(N.all))):\n",
      "“NAs introduced by coercion”"
     ]
    }
   ],
   "source": [
    "# Merge the model outputs\n",
    "# Get the list out output files, looking only at size distribtuion models\n",
    "list.output <- list.files(\"output\", \"size\", full.names=T)\n",
    "\n",
    "# Create the empty data frame to store all the output parameters\n",
    "DF <- NULL\n",
    "\n",
    "# Create the empty list to store each N matrix\n",
    "N.all <- NULL\n",
    "\n",
    "\n",
    "i <- 1\n",
    "\n",
    "for(path.distribution in list.output){\n",
    "    # first print file name\n",
    "    print(path.distribution)\n",
    "    # load the first file\n",
    "    load(path.distribution)\n",
    "    # get the size, origin, and dt from the filename\n",
    "    file.name <- unlist(list(strsplit(basename(path.distribution), \"_\")))\n",
    "    origin <- file.name[1]\n",
    "    size <- as.numeric(file.name[3])\n",
    "    dt <- as.numeric(file.name[4])\n",
    "\n",
    "\n",
    "    # on the first file, save the first matrices for V and N\n",
    "    if (i == 1) {\n",
    "        N.all <- model1[4,2][[1]]\n",
    "    }\n",
    "\n",
    "    # on the rest of the files, get the matrices and bind them\n",
    "    # on the rest\n",
    "    else {\n",
    "        Nproj <- model1[4,2][[1]]\n",
    "        N.all <- cbind(N.all, Nproj)\n",
    "    }\n",
    "\n",
    "    # get the parameters\n",
    "    params <- model1[,2][[1]]\n",
    "    gr <- model1[,2][[2]]\n",
    "    # save all the parameters\n",
    "    df <- data.frame(origin, size, dt, params,gr=sum(gr,na.rm=T))\n",
    "    DF <- data.frame(rbind(DF, df))\n",
    "    i <- i + 1\n",
    "}\n",
    "\n",
    "# Re-order each N matrix\n",
    "N <- N.all[, order(as.numeric(colnames(N.all)))]\n",
    "\n",
    "# The order of the \"dt\" column needs to be fixed to be numerical\n",
    "DF <- DF[order(as.numeric(DF$dt)),]\n",
    "\n"
   ]
  },
  {
   "cell_type": "code",
   "execution_count": 9,
   "metadata": {
    "collapsed": false
   },
   "outputs": [
    {
     "name": "stderr",
     "output_type": "stream",
     "text": [
      "Warning message in min(x):\n",
      "“no non-missing arguments to min; returning Inf”Warning message in max(x):\n",
      "“no non-missing arguments to max; returning -Inf”"
     ]
    },
    {
     "ename": "ERROR",
     "evalue": "Error in plot.window(...): need finite 'ylim' values\n",
     "output_type": "error",
     "traceback": [
      "Error in plot.window(...): need finite 'ylim' values\nTraceback:\n",
      "1. plot(DF$size, DF$dt, col = cols(100)[cut(DF$dmax, 100)], pch = 15, \n .     cex = 1, xlab = \"Size\", ylab = \"dt (minutes)\", main = \"Dmax\")",
      "2. plot(DF$size, DF$dt, col = cols(100)[cut(DF$dmax, 100)], pch = 15, \n .     cex = 1, xlab = \"Size\", ylab = \"dt (minutes)\", main = \"Dmax\")",
      "3. plot.default(DF$size, DF$dt, col = cols(100)[cut(DF$dmax, 100)], \n .     pch = 15, cex = 1, xlab = \"Size\", ylab = \"dt (minutes)\", \n .     main = \"Dmax\")",
      "4. localWindow(xlim, ylim, log, asp, ...)",
      "5. plot.window(...)"
     ]
    }
   ],
   "source": [
    "# To easily visualize how each parameter changes with both `size` and `dt`, we can plot them as a matrix\n",
    "\n",
    "# These are the colors we will be using on our heatmap\n",
    "cols <- colorRampPalette(c(\"blue4\",\"royalblue4\",\"deepskyblue3\", \"seagreen3\", \"yellow\", \"orangered2\",\"darkred\"))\n",
    "\n",
    "# Plotting each parameter as a heatmap\n",
    "par(mfrow=c(3,2),pty='m', mar=c(2,4,2,4))\n",
    "plot(DF$size, DF$dt, col=cols(100)[cut(DF$dmax,100)],\n",
    "     pch=15, cex=1, xlab=\"Size\", ylab=\"dt (minutes)\", main=\"Dmax\")\n",
    "plot(DF$size, DF$dt, col=cols(100)[cut(DF$gmax,100)],\n",
    "     pch=15, cex=1, xlab=\"Size\", ylab=\"dt (minutes)\", main=\"Gmax\")\n",
    "plot(DF$size, DF$dt, col=cols(100)[cut(DF$b,100)],\n",
    "     pch=15, cex=1, xlab=\"Size\", ylab=\"dt (minutes)\", main=\"b\")\n",
    "plot(DF$size, DF$dt, col=cols(100)[cut(DF$E_star,100)],\n",
    "     pch=15, cex=1, xlab=\"Size\", ylab=\"dt (minutes)\", main=\"E_Star\")\n",
    "plot(DF$size, DF$dt, col=cols(100)[cut(DF$resnorm,100)],\n",
    "     pch=15, cex=1, xlab=\"Size\", ylab=\"dt (minutes)\", main=\"Resnorm\")\n",
    "plot(DF$size, DF$dt, col=cols(100)[cut(DF$gr,100)],\n",
    "     pch=15, cex=1, xlab=\"Size\", ylab=\"dt (minutes)\", main=\"Growth Rate\")\n"
   ]
  },
  {
   "cell_type": "code",
   "execution_count": null,
   "metadata": {
    "collapsed": false
   },
   "outputs": [],
   "source": [
    "# To see how gamma responds to par for each run of the simulation, we can plot:\n",
    "\n",
    "# Get the par data\n",
    "Par <- read.csv(\"Par.csv\")\n",
    "\n",
    "# get the max gamma\n",
    "max <- max(DF$gmax * (1 - exp(-1000)/DF$E_star),\n",
    "    na.rm = T)\n",
    "\n",
    "# plot the first gamma\n",
    "plot(seq(0, max(Par$par), by=10),\n",
    "    DF$gmax[1] * (1 - exp(-seq(0, max(Par$par), by=10)/DF$E_star[1])),\n",
    "    ylim = c(0, max), type = \"l\", col = \"#00007F\",\n",
    "    lwd = 0.1, xlab = \"Light Intensity\",\n",
    "    ylab = paste(\"Gamma (per\", 10, \"min)\"))\n",
    "\n",
    "# plot the rest of the gamma's\n",
    "for (i in 2:length(DF$gmax)) {\n",
    "\n",
    "    #if (i %% 50 != 0) next\n",
    "\n",
    "    points(seq(0, max(Par$par), by=10),\n",
    "        DF$gmax[i] * (1 - exp(-seq(0, max(Par$par), by=10)/DF$E_star[i])),\n",
    "        ylim = c(0, max), type = \"l\", col = i,\n",
    "        lwd = 0.1, xlab = \"Light Intensity\",\n",
    "        ylab = paste(\"Gamma (per\", 10, \"min)\"))\n",
    "\n",
    "\n",
    "}"
   ]
  }
 ],
 "metadata": {
  "anaconda-cloud": {},
  "kernelspec": {
   "display_name": "R",
   "language": "R",
   "name": "ir"
  },
  "language_info": {
   "codemirror_mode": "r",
   "file_extension": ".r",
   "mimetype": "text/x-r-source",
   "name": "R",
   "pygments_lexer": "r",
   "version": "3.3.2"
  }
 },
 "nbformat": 4,
 "nbformat_minor": 1
}
